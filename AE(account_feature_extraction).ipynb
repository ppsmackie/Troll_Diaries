{
 "cells": [
  {
   "cell_type": "code",
   "execution_count": 1,
   "metadata": {},
   "outputs": [],
   "source": [
    "import csv\n",
    "from datetime import datetime\n",
    "import matplotlib.pyplot as plt\n",
    "import matplotlib\n",
    "import numpy as np"
   ]
  },
  {
   "cell_type": "code",
   "execution_count": 53,
   "metadata": {},
   "outputs": [],
   "source": [
    "### Function to save results as .txt files\n",
    "#import pickle\n",
    "#def pick(file, name):\n",
    "#    with open('./ira_txt/' + name + '.txt', \"wb\") as fp:   #Pickling\n",
    "#        pickle.dump(file, fp)\n",
    "#def unpick(name):\n",
    "#    with open('./ira_txt/' + name + '.txt', \"rb\") as fp:   # Unpickling\n",
    "#        file = pickle.load(fp)\n",
    "#    return file"
   ]
  },
  {
   "cell_type": "code",
   "execution_count": 55,
   "metadata": {},
   "outputs": [],
   "source": [
    "### Function to save results as .txt files\n",
    "import pickle\n",
    "def pick(file, name):\n",
    "    with open('./ira_txt_1/' + name + '.txt', \"wb\") as fp:   #Pickling\n",
    "        pickle.dump(file, fp)\n",
    "def unpick(name):\n",
    "    with open('./ira_txt_1/' + name + '.txt', \"rb\") as fp:   # Unpickling\n",
    "        file = pickle.load(fp)\n",
    "    return file"
   ]
  },
  {
   "cell_type": "code",
   "execution_count": 3,
   "metadata": {},
   "outputs": [],
   "source": [
    "#loc = unpick('loc')\n",
    "#locMIN = unpick('locMIN')\n",
    "#debot = unpick('debot')"
   ]
  },
  {
   "cell_type": "code",
   "execution_count": 4,
   "metadata": {},
   "outputs": [],
   "source": [
    "total_tweets = 9041309\n",
    "total_users = 3667\n",
    "tweets_dest = './ira_data/ira_tweets_csv_hashed.csv'"
   ]
  },
  {
   "cell_type": "code",
   "execution_count": 5,
   "metadata": {},
   "outputs": [],
   "source": [
    "tweet_days = unpick('date_vectors')"
   ]
  },
  {
   "cell_type": "markdown",
   "metadata": {},
   "source": [
    "Number of users: 3667\n",
    "\n",
    "Number of tweets: 9041308\n",
    "\n",
    "Start date: 2009-05-09 \n",
    "End Date: 2018-06-21\n",
    "Days: 3331\n",
    "\n",
    "date of election: 2016-11-08\n",
    "(as number): 2740\n",
    "\n",
    "Bar chart of tweets per day over period..."
   ]
  },
  {
   "cell_type": "code",
   "execution_count": 6,
   "metadata": {},
   "outputs": [],
   "source": [
    "ids = set()\n",
    "\n",
    "user_val = {}\n",
    "user_n = {}\n",
    "i = 0\n",
    "for user in tweet_days:\n",
    "    user_val[i] = user\n",
    "    user_n[user] = i\n",
    "    ids.add(user)\n",
    "    i += 1\n",
    "\n",
    "def uid(i):\n",
    "    return user_val[i]\n",
    "\n",
    "def un(user):\n",
    "    return user_n[user]"
   ]
  },
  {
   "cell_type": "code",
   "execution_count": 7,
   "metadata": {},
   "outputs": [
    {
     "name": "stdout",
     "output_type": "stream",
     "text": [
      "3667\n"
     ]
    }
   ],
   "source": [
    "print(len(ids))"
   ]
  },
  {
   "cell_type": "code",
   "execution_count": 8,
   "metadata": {},
   "outputs": [],
   "source": [
    "def to_int(i):\n",
    "    if i == '': i = 0\n",
    "    else: i = int(i)\n",
    "    return i"
   ]
  },
  {
   "cell_type": "code",
   "execution_count": 46,
   "metadata": {},
   "outputs": [],
   "source": [
    "def to_dict(d, keys):\n",
    "    for i in range(len(keys)):\n",
    "        key = keys[i]\n",
    "        if key != '':\n",
    "            if key in d: d[key] += 1\n",
    "            else: d[key] = 1\n",
    "    return"
   ]
  },
  {
   "cell_type": "code",
   "execution_count": 17,
   "metadata": {},
   "outputs": [],
   "source": [
    "def sep(st):\n",
    "    stripped = st.strip('[]')\n",
    "    stripped = stripped.split(',')\n",
    "    return stripped"
   ]
  },
  {
   "cell_type": "code",
   "execution_count": 18,
   "metadata": {},
   "outputs": [
    {
     "name": "stdout",
     "output_type": "stream",
     "text": [
      "[=================================================================================================== ] 99%"
     ]
    }
   ],
   "source": [
    "from time import sleep\n",
    "import sys\n",
    "\n",
    "T = 500\n",
    "\n",
    "for i in range(T):\n",
    "    sys.stdout.write('\\r')\n",
    "    # the exact output you're looking for:\n",
    "    sys.stdout.write(\"[%-100s] %d%%\" % (('='* int((i / T) * 100)), int( (i / T) * 100)))\n",
    "    sys.stdout.flush()\n",
    "#    sleep(0.01)"
   ]
  },
  {
   "cell_type": "code",
   "execution_count": 19,
   "metadata": {
    "scrolled": true
   },
   "outputs": [
    {
     "name": "stdout",
     "output_type": "stream",
     "text": [
      "[==========                                                                                          ] 10%                                                                                                    ] 0%[=                                                                                                   ] 1%[=                                                                                                   ] 1%[=                                                                                                   ] 1%[==                                                                                                  ] 2%[===                                                                                                 ] 3%[====                                                                                                ] 4%[====                                                                                                ] 4%[=====                                                                                               ] 5%[=====                                                                                               ] 5%[======                                                                                              ] 6%[=======                                                                                             ] 7%[=======                                                                                             ] 7%[========                                                                                            ] 8%[=========                                                                                           ] 9%[==========                                                                                          ] 10%[==========                                                                                          ] 10%[==========                                                                                          ] 10%"
     ]
    },
    {
     "ename": "KeyboardInterrupt",
     "evalue": "",
     "output_type": "error",
     "traceback": [
      "\u001b[1;31m---------------------------------------------------------------------------\u001b[0m",
      "\u001b[1;31mKeyboardInterrupt\u001b[0m                         Traceback (most recent call last)",
      "\u001b[1;32m<ipython-input-19-60d3eb4664f6>\u001b[0m in \u001b[0;36m<module>\u001b[1;34m\u001b[0m\n\u001b[0;32m     33\u001b[0m         \u001b[1;31m# the exact output you're looking for:\u001b[0m\u001b[1;33m\u001b[0m\u001b[1;33m\u001b[0m\u001b[1;33m\u001b[0m\u001b[0m\n\u001b[0;32m     34\u001b[0m         \u001b[0msys\u001b[0m\u001b[1;33m.\u001b[0m\u001b[0mstdout\u001b[0m\u001b[1;33m.\u001b[0m\u001b[0mwrite\u001b[0m\u001b[1;33m(\u001b[0m\u001b[1;34m\"[%-100s] %d%%\"\u001b[0m \u001b[1;33m%\u001b[0m \u001b[1;33m(\u001b[0m\u001b[1;33m(\u001b[0m\u001b[1;34m'='\u001b[0m\u001b[1;33m*\u001b[0m \u001b[0mint\u001b[0m\u001b[1;33m(\u001b[0m\u001b[1;33m(\u001b[0m\u001b[0mi\u001b[0m \u001b[1;33m/\u001b[0m \u001b[0mT\u001b[0m\u001b[1;33m)\u001b[0m \u001b[1;33m*\u001b[0m \u001b[1;36m100\u001b[0m\u001b[1;33m)\u001b[0m\u001b[1;33m)\u001b[0m\u001b[1;33m,\u001b[0m \u001b[0mint\u001b[0m\u001b[1;33m(\u001b[0m \u001b[1;33m(\u001b[0m\u001b[0mi\u001b[0m \u001b[1;33m/\u001b[0m \u001b[0mT\u001b[0m\u001b[1;33m)\u001b[0m \u001b[1;33m*\u001b[0m \u001b[1;36m100\u001b[0m\u001b[1;33m)\u001b[0m\u001b[1;33m)\u001b[0m\u001b[1;33m)\u001b[0m\u001b[1;33m\u001b[0m\u001b[1;33m\u001b[0m\u001b[0m\n\u001b[1;32m---> 35\u001b[1;33m         \u001b[0msys\u001b[0m\u001b[1;33m.\u001b[0m\u001b[0mstdout\u001b[0m\u001b[1;33m.\u001b[0m\u001b[0mflush\u001b[0m\u001b[1;33m(\u001b[0m\u001b[1;33m)\u001b[0m\u001b[1;33m\u001b[0m\u001b[1;33m\u001b[0m\u001b[0m\n\u001b[0m\u001b[0;32m     36\u001b[0m         \u001b[0mcurrent\u001b[0m \u001b[1;33m=\u001b[0m \u001b[0mnext\u001b[0m\u001b[1;33m(\u001b[0m\u001b[0mreader\u001b[0m\u001b[1;33m)\u001b[0m\u001b[1;33m\u001b[0m\u001b[1;33m\u001b[0m\u001b[0m\n\u001b[0;32m     37\u001b[0m         \u001b[0muser\u001b[0m \u001b[1;33m=\u001b[0m \u001b[0mcurrent\u001b[0m\u001b[1;33m[\u001b[0m\u001b[1;36m1\u001b[0m\u001b[1;33m]\u001b[0m\u001b[1;33m\u001b[0m\u001b[1;33m\u001b[0m\u001b[0m\n",
      "\u001b[1;32m~\\Anaconda3\\lib\\site-packages\\ipykernel\\iostream.py\u001b[0m in \u001b[0;36mflush\u001b[1;34m(self)\u001b[0m\n\u001b[0;32m    347\u001b[0m                 \u001b[0mself\u001b[0m\u001b[1;33m.\u001b[0m\u001b[0mpub_thread\u001b[0m\u001b[1;33m.\u001b[0m\u001b[0mschedule\u001b[0m\u001b[1;33m(\u001b[0m\u001b[0mevt\u001b[0m\u001b[1;33m.\u001b[0m\u001b[0mset\u001b[0m\u001b[1;33m)\u001b[0m\u001b[1;33m\u001b[0m\u001b[1;33m\u001b[0m\u001b[0m\n\u001b[0;32m    348\u001b[0m                 \u001b[1;31m# and give a timeout to avoid\u001b[0m\u001b[1;33m\u001b[0m\u001b[1;33m\u001b[0m\u001b[1;33m\u001b[0m\u001b[0m\n\u001b[1;32m--> 349\u001b[1;33m                 \u001b[1;32mif\u001b[0m \u001b[1;32mnot\u001b[0m \u001b[0mevt\u001b[0m\u001b[1;33m.\u001b[0m\u001b[0mwait\u001b[0m\u001b[1;33m(\u001b[0m\u001b[0mself\u001b[0m\u001b[1;33m.\u001b[0m\u001b[0mflush_timeout\u001b[0m\u001b[1;33m)\u001b[0m\u001b[1;33m:\u001b[0m\u001b[1;33m\u001b[0m\u001b[1;33m\u001b[0m\u001b[0m\n\u001b[0m\u001b[0;32m    350\u001b[0m                     \u001b[1;31m# write directly to __stderr__ instead of warning because\u001b[0m\u001b[1;33m\u001b[0m\u001b[1;33m\u001b[0m\u001b[1;33m\u001b[0m\u001b[0m\n\u001b[0;32m    351\u001b[0m                     \u001b[1;31m# if this is happening sys.stderr may be the problem.\u001b[0m\u001b[1;33m\u001b[0m\u001b[1;33m\u001b[0m\u001b[1;33m\u001b[0m\u001b[0m\n",
      "\u001b[1;32m~\\Anaconda3\\lib\\threading.py\u001b[0m in \u001b[0;36mwait\u001b[1;34m(self, timeout)\u001b[0m\n\u001b[0;32m    549\u001b[0m             \u001b[0msignaled\u001b[0m \u001b[1;33m=\u001b[0m \u001b[0mself\u001b[0m\u001b[1;33m.\u001b[0m\u001b[0m_flag\u001b[0m\u001b[1;33m\u001b[0m\u001b[1;33m\u001b[0m\u001b[0m\n\u001b[0;32m    550\u001b[0m             \u001b[1;32mif\u001b[0m \u001b[1;32mnot\u001b[0m \u001b[0msignaled\u001b[0m\u001b[1;33m:\u001b[0m\u001b[1;33m\u001b[0m\u001b[1;33m\u001b[0m\u001b[0m\n\u001b[1;32m--> 551\u001b[1;33m                 \u001b[0msignaled\u001b[0m \u001b[1;33m=\u001b[0m \u001b[0mself\u001b[0m\u001b[1;33m.\u001b[0m\u001b[0m_cond\u001b[0m\u001b[1;33m.\u001b[0m\u001b[0mwait\u001b[0m\u001b[1;33m(\u001b[0m\u001b[0mtimeout\u001b[0m\u001b[1;33m)\u001b[0m\u001b[1;33m\u001b[0m\u001b[1;33m\u001b[0m\u001b[0m\n\u001b[0m\u001b[0;32m    552\u001b[0m             \u001b[1;32mreturn\u001b[0m \u001b[0msignaled\u001b[0m\u001b[1;33m\u001b[0m\u001b[1;33m\u001b[0m\u001b[0m\n\u001b[0;32m    553\u001b[0m \u001b[1;33m\u001b[0m\u001b[0m\n",
      "\u001b[1;32m~\\Anaconda3\\lib\\threading.py\u001b[0m in \u001b[0;36mwait\u001b[1;34m(self, timeout)\u001b[0m\n\u001b[0;32m    297\u001b[0m             \u001b[1;32melse\u001b[0m\u001b[1;33m:\u001b[0m\u001b[1;33m\u001b[0m\u001b[1;33m\u001b[0m\u001b[0m\n\u001b[0;32m    298\u001b[0m                 \u001b[1;32mif\u001b[0m \u001b[0mtimeout\u001b[0m \u001b[1;33m>\u001b[0m \u001b[1;36m0\u001b[0m\u001b[1;33m:\u001b[0m\u001b[1;33m\u001b[0m\u001b[1;33m\u001b[0m\u001b[0m\n\u001b[1;32m--> 299\u001b[1;33m                     \u001b[0mgotit\u001b[0m \u001b[1;33m=\u001b[0m \u001b[0mwaiter\u001b[0m\u001b[1;33m.\u001b[0m\u001b[0macquire\u001b[0m\u001b[1;33m(\u001b[0m\u001b[1;32mTrue\u001b[0m\u001b[1;33m,\u001b[0m \u001b[0mtimeout\u001b[0m\u001b[1;33m)\u001b[0m\u001b[1;33m\u001b[0m\u001b[1;33m\u001b[0m\u001b[0m\n\u001b[0m\u001b[0;32m    300\u001b[0m                 \u001b[1;32melse\u001b[0m\u001b[1;33m:\u001b[0m\u001b[1;33m\u001b[0m\u001b[1;33m\u001b[0m\u001b[0m\n\u001b[0;32m    301\u001b[0m                     \u001b[0mgotit\u001b[0m \u001b[1;33m=\u001b[0m \u001b[0mwaiter\u001b[0m\u001b[1;33m.\u001b[0m\u001b[0macquire\u001b[0m\u001b[1;33m(\u001b[0m\u001b[1;32mFalse\u001b[0m\u001b[1;33m)\u001b[0m\u001b[1;33m\u001b[0m\u001b[1;33m\u001b[0m\u001b[0m\n",
      "\u001b[1;31mKeyboardInterrupt\u001b[0m: "
     ]
    }
   ],
   "source": [
    "def build_row(old_row, target_columns):\n",
    "    new_row = [].copy()\n",
    "    for i in target_columns:\n",
    "        new_row.append(old_row[i])\n",
    "    return(new_row)\n",
    "\n",
    "user_info = {}\n",
    "hashtags = {}\n",
    "urls = {}\n",
    "interactions = {}\n",
    "clients = {}\n",
    "langs = {}\n",
    "followed = {}\n",
    "replies = {}\n",
    "\n",
    "T = total_tweets-1\n",
    "\n",
    "### Create dictionary of users and list of tweet times ###\n",
    "with open(tweets_dest, encoding=\"utf8\") as f:\n",
    "    reader = csv.reader(f,dialect='excel')\n",
    "    current = next(reader)\n",
    "#    user_info[current[1]] = build_row(current,[2,3,4,5,7,8,10])\n",
    "#    print(build_row(current,[23,24,25,26]))\n",
    "#    for j in range(len(current)):\n",
    "#        print(j,':',current[j])\n",
    "    for i in range(total_tweets-1):\n",
    "        sys.stdout.write('\\r')\n",
    "        # the exact output you're looking for:\n",
    "        sys.stdout.write(\"[%-100s] %d%%\" % (('='* int((i / T) * 100)), int( (i / T) * 100)))\n",
    "        sys.stdout.flush()\n",
    "        current = next(reader)\n",
    "        user = current[1]\n",
    "        url = sep(current[28])\n",
    "        hashtag = sep(current[27])\n",
    "#        print(url, hashtag)\n",
    "        reply_id = sep(current[16])\n",
    "        rt_id = sep(current[19])\n",
    "        mention_id = sep(current[29])\n",
    "        client = sep(current[14])\n",
    "        lang = sep(current[11])\n",
    "#        print(reply_id, rt_id, mention_id, client, lang)\n",
    "        fs = build_row(current,[23,24,25,26])\n",
    "        fs = list(map(to_int, fs))\n",
    "        fs = np.array(fs)\n",
    "\n",
    "        if user in user_info:\n",
    "            urls[user] = urls[user].union(set(url))\n",
    "            followed[user] += fs\n",
    "            to_dict(hashtags[user],hashtag)\n",
    "            to_dict(replies[user],reply_id)\n",
    "            to_dict(replies[user],rt_id)\n",
    "            to_dict(replies[user],mention_id)\n",
    "            to_dict(clients[user],client)\n",
    "            to_dict(langs[user],lang)\n",
    "        else: \n",
    "            user_info[user] = build_row(current,[2,3,4,5,7,8,10])\n",
    "            urls[user] = set(url)\n",
    "            followed[user] = fs\n",
    "            hashtags[user] = {}\n",
    "            replies[user] = {}\n",
    "            clients[user] = {}\n",
    "            langs[user] = {}\n",
    "f.close()"
   ]
  },
  {
   "cell_type": "code",
   "execution_count": 20,
   "metadata": {},
   "outputs": [
    {
     "name": "stdout",
     "output_type": "stream",
     "text": [
      "13315.77901772211\n"
     ]
    }
   ],
   "source": [
    "t1 = time.time()\n",
    "total = t1-t0\n",
    "X = total * (total_tweets / i)\n",
    "print(X)"
   ]
  },
  {
   "cell_type": "code",
   "execution_count": 21,
   "metadata": {},
   "outputs": [
    {
     "data": {
      "text/plain": [
       "9.12024471803459"
      ]
     },
     "execution_count": 21,
     "metadata": {},
     "output_type": "execute_result"
    }
   ],
   "source": []
  },
  {
   "cell_type": "code",
   "execution_count": 34,
   "metadata": {},
   "outputs": [],
   "source": [
    "#dicts = [user_info,hashtags,urls,clients,langs,followed,replies]\n",
    "#names = ['user_info','hashtags','urls','clients','langs','followed','replies']\n",
    "#\n",
    "#for i in range(len(dicts)):\n",
    "#    pick(dicts[i],names[i])"
   ]
  },
  {
   "cell_type": "code",
   "execution_count": 48,
   "metadata": {},
   "outputs": [],
   "source": [
    "names = ['user_info','hashtags','urls','clients','langs','followed','replies']"
   ]
  },
  {
   "cell_type": "code",
   "execution_count": null,
   "metadata": {},
   "outputs": [],
   "source": [
    "#user_info = unpick(names[0])"
   ]
  },
  {
   "cell_type": "code",
   "execution_count": null,
   "metadata": {},
   "outputs": [],
   "source": [
    "#hastags = unpick(names[1])"
   ]
  },
  {
   "cell_type": "code",
   "execution_count": null,
   "metadata": {},
   "outputs": [],
   "source": [
    "#urls = unpick(names[2])"
   ]
  },
  {
   "cell_type": "code",
   "execution_count": null,
   "metadata": {},
   "outputs": [],
   "source": [
    "#clients = unpick(names[3])"
   ]
  },
  {
   "cell_type": "code",
   "execution_count": null,
   "metadata": {},
   "outputs": [],
   "source": [
    "#langs = unpick(names[4])"
   ]
  },
  {
   "cell_type": "code",
   "execution_count": null,
   "metadata": {},
   "outputs": [],
   "source": [
    "#followed = unpick(names[5])"
   ]
  },
  {
   "cell_type": "code",
   "execution_count": null,
   "metadata": {},
   "outputs": [],
   "source": [
    "#replies = unpick(names[6])"
   ]
  },
  {
   "cell_type": "code",
   "execution_count": 54,
   "metadata": {},
   "outputs": [],
   "source": [
    "dicts = [{},{},{},{},{},{},{}]\n",
    "for i in range(len(dicts)):\n",
    "    dicts[i] = unpick(names[i])\n",
    "#user_info = dicts[0]\n",
    "#hashtags = dicts[1]\n",
    "#urls = dicts[2]\n",
    "#clients = dicts[3]\n",
    "#langs = dicts[4]\n",
    "#followed = dicts[5]\n",
    "#replies = dicts[6]"
   ]
  },
  {
   "cell_type": "code",
   "execution_count": 56,
   "metadata": {},
   "outputs": [],
   "source": [
    "for i in range(len(dicts)):\n",
    "    pick(dicts[i],names[i])"
   ]
  },
  {
   "cell_type": "code",
   "execution_count": 47,
   "metadata": {},
   "outputs": [],
   "source": [
    "#adjacency = np.array([[0,0,1],[0,0,0],[1,0,0]])\n",
    "#import networkx as nx\n",
    "#\n",
    "#def show_graph_with_labels(adjacency_matrix, mylabels):\n",
    "#    rows, cols = np.where(adjacency_matrix == 1)\n",
    "#    edges = zip(rows.tolist(), cols.tolist())\n",
    "#    gr = nx.DiGraph()\n",
    "#    gr.add_edges_from(edges)\n",
    "#    nx.draw(gr, node_size=5)\n",
    "#    plt.show()\n",
    "#\n",
    "#show_graph_with_labels(C_M, [])"
   ]
  },
  {
   "cell_type": "code",
   "execution_count": 48,
   "metadata": {},
   "outputs": [],
   "source": [
    "#connections = np.zeros((3667,3667),int)\n",
    "#referenced = {}\n",
    "#for user in replies:\n",
    "#    print(un(user))\n",
    "#    reps = replies[user]\n",
    "#    for target in reps:\n",
    "#        print(target)\n",
    "#        if target in ids:\n",
    "#            i = un(user)\n",
    "#            j = un(target)\n",
    "#            print(i,j)\n",
    "#            connections[i,j] += 1#reps[target]\n",
    "#        if target in referenced: referenced[target] += reps[target]\n",
    "#        else: referenced[target] = reps[target]\n",
    "#    break"
   ]
  },
  {
   "cell_type": "markdown",
   "metadata": {},
   "source": [
    "# How often users mention other users"
   ]
  },
  {
   "cell_type": "code",
   "execution_count": 57,
   "metadata": {},
   "outputs": [],
   "source": [
    "### Create connectivity matrix\n",
    "replies = unpick(names[6])\n",
    "t0 = time.time()\n",
    "\n",
    "C_M = np.zeros((3667,3667),int)\n",
    "\n",
    "for userA in replies:\n",
    "    idA = un(userA)\n",
    "#    print(idA)\n",
    "    reps = replies[userA]\n",
    "    for userB in reps:\n",
    "#        print(userB)\n",
    "        if userB in ids:\n",
    "            idB = un(userB)\n",
    "            C_M[idA,idB] = reps[userB]\n",
    "#            print(idA, idB)\n",
    "#    break\n",
    "t1 = time.time()\n",
    "total = t1-t0\n",
    "#del(replies)"
   ]
  },
  {
   "cell_type": "code",
   "execution_count": 58,
   "metadata": {},
   "outputs": [
    {
     "name": "stdout",
     "output_type": "stream",
     "text": [
      "2151287\n"
     ]
    }
   ],
   "source": [
    "print(np.sum(C_M))"
   ]
  },
  {
   "cell_type": "code",
   "execution_count": 43,
   "metadata": {},
   "outputs": [
    {
     "name": "stdout",
     "output_type": "stream",
     "text": [
      "20522.5\n"
     ]
    },
    {
     "data": {
      "image/png": "[encoded data removed]",
      "text/plain": [
       "<Figure size 432x288 with 1 Axes>"
      ]
     },
     "metadata": {},
     "output_type": "display_data"
    }
   ],
   "source": [
    "import networkx as nx\n",
    "\n",
    "t0 = time.time()\n",
    "\n",
    "G = nx.from_numpy_matrix(C_M, create_using=nx.DiGraph())\n",
    "#G.remove_node(0)\n",
    "#G.remove_nodes_from(list(nx.isolates(G)))\n",
    "\n",
    "print(0.5 * len( [ 1 for (u,v) in G.edges() if u in G[v] ] ) )\n",
    "\n",
    "#pos=nx.spring_layout(G, k = 2, seed = 5)\n",
    "#nx.draw(G,pos, node_color = cmap)\n",
    "#nx.draw_networkx_labels(G,pos)\n",
    "\n",
    "#plt.show()\n",
    "\n",
    "cmap = []\n",
    "\n",
    "#pos=nx.spring_layout(G, k = 2, seed = 5)\n",
    "\n",
    "pos = nx.fruchterman_reingold_layout(G)\n",
    "t2 = time.time()\n",
    "nx.draw(G,pos, node_color = cmap)\n",
    "nx.draw_networkx_labels(G,pos)\n",
    "\n",
    "t1 = time.time()\n",
    "total = t1-t0\n",
    "\n",
    "plt.show()"
   ]
  },
  {
   "cell_type": "code",
   "execution_count": 45,
   "metadata": {},
   "outputs": [
    {
     "name": "stdout",
     "output_type": "stream",
     "text": [
      "301.80014085769653\n",
      "85.67060923576355\n"
     ]
    }
   ],
   "source": [
    "print(total)\n",
    "print(t2 - t0)"
   ]
  },
  {
   "cell_type": "code",
   "execution_count": null,
   "metadata": {},
   "outputs": [],
   "source": [
    "fruchterman_reingold_layout"
   ]
  },
  {
   "cell_type": "code",
   "execution_count": 28,
   "metadata": {},
   "outputs": [
    {
     "name": "stdout",
     "output_type": "stream",
     "text": [
      "0.4238777160644531\n"
     ]
    }
   ],
   "source": [
    "X = total\n",
    "print(X)"
   ]
  },
  {
   "cell_type": "code",
   "execution_count": 30,
   "metadata": {},
   "outputs": [
    {
     "name": "stdout",
     "output_type": "stream",
     "text": [
      "2151287\n"
     ]
    }
   ],
   "source": [
    "print(np.sum(C_M))"
   ]
  },
  {
   "cell_type": "code",
   "execution_count": 20,
   "metadata": {},
   "outputs": [],
   "source": [
    "## Remove self mentions\n",
    "#for i in range(3667):\n",
    "#    C_M[i,i] = 0"
   ]
  },
  {
   "cell_type": "code",
   "execution_count": 59,
   "metadata": {},
   "outputs": [],
   "source": [
    "pick(C_M,'C_M')"
   ]
  },
  {
   "cell_type": "code",
   "execution_count": 18,
   "metadata": {},
   "outputs": [
    {
     "data": {
      "text/plain": [
       "<matplotlib.image.AxesImage at 0x1f05ed3f6a0>"
      ]
     },
     "execution_count": 18,
     "metadata": {},
     "output_type": "execute_result"
    },
    {
     "data": {
      "image/png": "[encoded data removed]",
      "text/plain": [
       "<Figure size 432x288 with 1 Axes>"
      ]
     },
     "metadata": {
      "needs_background": "light"
     },
     "output_type": "display_data"
    }
   ],
   "source": []
  },
  {
   "cell_type": "code",
   "execution_count": 66,
   "metadata": {},
   "outputs": [
    {
     "data": {
      "image/png": "[encoded data removed]",
      "text/plain": [
       "<Figure size 432x288 with 1 Axes>"
      ]
     },
     "metadata": {
      "needs_background": "light"
     },
     "output_type": "display_data"
    }
   ],
   "source": [
    "#plt.imshow(C_M)\n",
    "#plt.show()\n",
    "plt.plot(((C_M.flatten()).tolist()))\n",
    "plt.show()"
   ]
  },
  {
   "cell_type": "code",
   "execution_count": 60,
   "metadata": {},
   "outputs": [
    {
     "name": "stdout",
     "output_type": "stream",
     "text": [
      "1951\n"
     ]
    }
   ],
   "source": [
    "x = 0\n",
    "for i in range(3667):\n",
    "    if np.sum(C_M[i]) > 10: x += 1\n",
    "print(x)"
   ]
  },
  {
   "cell_type": "code",
   "execution_count": 61,
   "metadata": {},
   "outputs": [],
   "source": [
    "high_ms = set()\n",
    "high_md = set()\n",
    "for i in range(3667):\n",
    "    for j in range(3667):\n",
    "        if C_M[i,j] > 1000:\n",
    "            high_ms.add(i)\n",
    "            high_md.add(j)"
   ]
  },
  {
   "cell_type": "code",
   "execution_count": 62,
   "metadata": {},
   "outputs": [
    {
     "name": "stdout",
     "output_type": "stream",
     "text": [
      "34 39\n"
     ]
    },
    {
     "ename": "NameError",
     "evalue": "name 'intersect' is not defined",
     "output_type": "error",
     "traceback": [
      "\u001b[1;31m---------------------------------------------------------------------------\u001b[0m",
      "\u001b[1;31mNameError\u001b[0m                                 Traceback (most recent call last)",
      "\u001b[1;32m<ipython-input-62-ab881a215b94>\u001b[0m in \u001b[0;36m<module>\u001b[1;34m\u001b[0m\n\u001b[0;32m      1\u001b[0m \u001b[0mprint\u001b[0m\u001b[1;33m(\u001b[0m\u001b[0mlen\u001b[0m\u001b[1;33m(\u001b[0m\u001b[0mhigh_ms\u001b[0m\u001b[1;33m)\u001b[0m\u001b[1;33m,\u001b[0m \u001b[0mlen\u001b[0m\u001b[1;33m(\u001b[0m\u001b[0mhigh_md\u001b[0m\u001b[1;33m)\u001b[0m\u001b[1;33m)\u001b[0m\u001b[1;33m\u001b[0m\u001b[1;33m\u001b[0m\u001b[0m\n\u001b[1;32m----> 2\u001b[1;33m \u001b[0mprint\u001b[0m\u001b[1;33m(\u001b[0m\u001b[0mlen\u001b[0m\u001b[1;33m(\u001b[0m\u001b[0mintersect\u001b[0m\u001b[1;33m(\u001b[0m\u001b[0mhigh_ms\u001b[0m\u001b[1;33m,\u001b[0m\u001b[0mhigh_md\u001b[0m\u001b[1;33m)\u001b[0m\u001b[1;33m)\u001b[0m\u001b[1;33m)\u001b[0m\u001b[1;33m\u001b[0m\u001b[1;33m\u001b[0m\u001b[0m\n\u001b[0m",
      "\u001b[1;31mNameError\u001b[0m: name 'intersect' is not defined"
     ]
    }
   ],
   "source": [
    "print(len(high_ms), len(high_md))\n",
    "print(len(intersect(high_ms,high_md)))"
   ]
  },
  {
   "cell_type": "code",
   "execution_count": 68,
   "metadata": {},
   "outputs": [],
   "source": [
    "def cluster_refs(cluster):\n",
    "    total_refs = 0\n",
    "    cluster_refs = 0\n",
    "    for i in cluster:\n",
    "        total_refs += np.sum(C_M[i])\n",
    "        for j in cluster:\n",
    "            cluster_refs += C_M[i,j]\n",
    "    return total_refs, cluster_refs"
   ]
  },
  {
   "cell_type": "code",
   "execution_count": 88,
   "metadata": {},
   "outputs": [],
   "source": [
    "clusteredD = []\n",
    "clusteredM = []\n",
    "\n",
    "for i in range(len(loc)):\n",
    "    if i != 0: clusteredD = clusteredD + loc[i]\n",
    "        \n",
    "for i in range(len(locMIN)):\n",
    "    if i != 0: clusteredM = clusteredM + locMIN[i]"
   ]
  },
  {
   "cell_type": "code",
   "execution_count": 167,
   "metadata": {},
   "outputs": [],
   "source": [
    "def union(A,B):\n",
    "    A = set(A)\n",
    "    B = set(B)\n",
    "    return list(A.union(B))\n",
    "\n",
    "def intersect(A,B):\n",
    "    A = set(A)\n",
    "    B = set(B)\n",
    "    return list(A.intersection(B))\n",
    "\n",
    "def subtract(A,B):\n",
    "    A = set(A)\n",
    "    B = set(B)\n",
    "    return list(A - B)"
   ]
  },
  {
   "cell_type": "code",
   "execution_count": 171,
   "metadata": {},
   "outputs": [
    {
     "name": "stdout",
     "output_type": "stream",
     "text": [
      "1856\n",
      "1726\n",
      "1058\n",
      "2844\n",
      "738\n",
      "1118\n",
      "988\n"
     ]
    }
   ],
   "source": [
    "#print(len(clusteredD), len(clusteredM), len(debot))\n",
    "\n",
    "D = clusteredD\n",
    "M = clusteredM\n",
    "bot = debot\n",
    "\n",
    "DuM = union(D,M)\n",
    "DnM = intersect(D,M)\n",
    "D_M = subtract(D,M)\n",
    "M_D = subtract(M,D)\n",
    "\n",
    "lists = [clusteredD, clusteredM, debot, DuM, DnM, D_M, M_D]\n",
    "\n",
    "for l in lists:\n",
    "    print(len(l))"
   ]
  },
  {
   "cell_type": "code",
   "execution_count": 172,
   "metadata": {},
   "outputs": [
    {
     "name": "stdout",
     "output_type": "stream",
     "text": [
      "EX:  0.49860219847708726\n",
      "Ac:  0.7855127260069855\n",
      "EX:  0.47564187508221784\n",
      "Ac:  0.45699503884849546\n",
      "EX:  0.29031862150683735\n",
      "Ac:  0.28289095897403177\n",
      "EX:  0.7772446690051228\n",
      "Ac:  0.8443871135607345\n",
      "EX:  0.19582829903045146\n",
      "Ac:  0.2752987523118591\n",
      "EX:  0.30989839508950234\n",
      "Ac:  0.7947752415667756\n",
      "EX:  0.26729716526012653\n",
      "Ac:  0.31472711301225986\n"
     ]
    }
   ],
   "source": [
    "import random\n",
    "\n",
    "N = 25\n",
    "\n",
    "for cluster in lists:\n",
    "    \n",
    "    S = len(cluster)\n",
    "    Acc = 0\n",
    "    for i in range(N):\n",
    "        L = random.sample(range(3667), S)\n",
    "        tr, cr = cluster_refs(L)\n",
    "        Acc += (cr / tr)\n",
    "    print('EX: ',Acc / N)\n",
    "    \n",
    "    tr, cr = cluster_refs(cluster)\n",
    "    print('Ac: ', cr / tr)\n",
    "\n"
   ]
  },
  {
   "cell_type": "code",
   "execution_count": null,
   "metadata": {},
   "outputs": [],
   "source": []
  },
  {
   "cell_type": "markdown",
   "metadata": {},
   "source": [
    "# look at URL shares "
   ]
  },
  {
   "cell_type": "code",
   "execution_count": 173,
   "metadata": {},
   "outputs": [],
   "source": []
  },
  {
   "cell_type": "code",
   "execution_count": 174,
   "metadata": {},
   "outputs": [],
   "source": [
    "urls = unpick(names[2])\n",
    "def url_profile(cluster):\n",
    "    profile = {}\n",
    "    for user in cluster:\n",
    "        idA = uid(user)\n",
    "        url_shares = list(urls[idA])\n",
    "        for url in url_shares:\n",
    "            if url in profile: profile[url] += 1\n",
    "            else: profile[url] = 1\n",
    "    return profile"
   ]
  },
  {
   "cell_type": "code",
   "execution_count": 175,
   "metadata": {},
   "outputs": [
    {
     "name": "stdout",
     "output_type": "stream",
     "text": [
      "0.7023407238113781\n"
     ]
    }
   ],
   "source": [
    "N = 5\n",
    "S = 1800\n",
    "Acc = 0\n",
    "for i in range(N):\n",
    "    L = random.sample(range(3667), S)\n",
    "    cluster_profile = url_profile(L)\n",
    "    Total = len(cluster_profile)\n",
    "    Same = 0\n",
    "    for url in cluster_profile:\n",
    "        Same += cluster_profile[url]\n",
    "    Acc += (Total/Same)\n",
    "#    print(T,S, T/S)\n",
    "print(Acc / N)"
   ]
  },
  {
   "cell_type": "code",
   "execution_count": 176,
   "metadata": {},
   "outputs": [
    {
     "name": "stdout",
     "output_type": "stream",
     "text": [
      "0.6215828422283235\n",
      "0.445086693135941\n",
      "0.6793243441364679\n",
      "0.6013807746365918\n",
      "0.43975938457979064\n",
      "0.6400861557003917\n",
      "0.49932557051229115\n"
     ]
    }
   ],
   "source": [
    "for cluster in lists:\n",
    "    cluster_profile = url_profile(cluster)\n",
    "    Total = len(cluster_profile)\n",
    "    Same = 0\n",
    "    for url in cluster_profile:\n",
    "        Same += cluster_profile[url]\n",
    "    print(Total / Same)"
   ]
  },
  {
   "cell_type": "code",
   "execution_count": 177,
   "metadata": {},
   "outputs": [
    {
     "name": "stdout",
     "output_type": "stream",
     "text": [
      "Expected:  0.7034838062710499\n",
      "Actual:  0.6215828422283235\n",
      "Expected:  0.7109497823609069\n",
      "Actual:  0.445086693135941\n",
      "Expected:  0.7653948557537645\n",
      "Actual:  0.6793243441364679\n",
      "Expected:  0.6554450250334556\n",
      "Actual:  0.6013807746365918\n",
      "Expected:  0.7986802939446629\n",
      "Actual:  0.43975938457979064\n",
      "Expected:  0.7620198771056157\n",
      "Actual:  0.6400861557003917\n",
      "Expected:  0.7751721128338664\n",
      "Actual:  0.49932557051229115\n"
     ]
    }
   ],
   "source": [
    "N = 10\n",
    "for cluster in lists:\n",
    "    \n",
    "    S = len(cluster)\n",
    "    Acc = 0\n",
    "    \n",
    "    for i in range(N):\n",
    "        L = random.sample(range(3667), S)\n",
    "        cluster_profile = url_profile(L)\n",
    "        Total = len(cluster_profile)\n",
    "        Same = 0\n",
    "        for url in cluster_profile:\n",
    "            Same += cluster_profile[url]\n",
    "        Acc += (Total/Same)\n",
    "    print('Expected: ', Acc / N)\n",
    "    \n",
    "    cluster_profile = url_profile(cluster)\n",
    "    Total = len(cluster_profile)\n",
    "    Same = 0\n",
    "    for url in cluster_profile:\n",
    "        Same += cluster_profile[url]\n",
    "    print('Actual: ', Total / Same)"
   ]
  },
  {
   "cell_type": "markdown",
   "metadata": {},
   "source": [
    "# Look at #'s"
   ]
  },
  {
   "cell_type": "code",
   "execution_count": 178,
   "metadata": {},
   "outputs": [],
   "source": [
    "hashtags = unpick(names[1])"
   ]
  },
  {
   "cell_type": "code",
   "execution_count": 179,
   "metadata": {},
   "outputs": [
    {
     "name": "stdout",
     "output_type": "stream",
     "text": [
      "3667\n"
     ]
    }
   ],
   "source": [
    "print(len(hashtags))"
   ]
  },
  {
   "cell_type": "code",
   "execution_count": 180,
   "metadata": {},
   "outputs": [],
   "source": [
    "def hashtag_profile(cluster):\n",
    "    profile = {}\n",
    "    for user in cluster:\n",
    "        idA = uid(user)\n",
    "        hashtag_shares = list(hashtags[idA])\n",
    "        for hashtag in hashtag_shares:\n",
    "            if hashtag in profile: profile[hashtag] += 1\n",
    "            else: profile[hashtag] = 1\n",
    "    return profile"
   ]
  },
  {
   "cell_type": "code",
   "execution_count": 181,
   "metadata": {},
   "outputs": [
    {
     "name": "stdout",
     "output_type": "stream",
     "text": [
      "0.35052161522249814\n"
     ]
    }
   ],
   "source": [
    "N = 10\n",
    "S = 1058\n",
    "Acc = 0\n",
    "for i in range(N):\n",
    "    L = random.sample(range(3667), S)\n",
    "    cluster_profile = hashtag_profile(L)\n",
    "    Total = len(cluster_profile)\n",
    "    Same = 0\n",
    "    for hashtag in cluster_profile:\n",
    "        Same += cluster_profile[hashtag]\n",
    "    Acc += (Total/Same)\n",
    "#    print(T,S, T/S)\n",
    "print(Acc / N)"
   ]
  },
  {
   "cell_type": "code",
   "execution_count": 183,
   "metadata": {},
   "outputs": [
    {
     "name": "stdout",
     "output_type": "stream",
     "text": [
      "Expected:  0.2827016781131558\n",
      "Actual:  0.25543609136557827\n",
      "Expected:  0.2931800151281035\n",
      "Actual:  0.196990590702065\n",
      "Expected:  0.35073507301647844\n",
      "Actual:  0.24900783427627826\n",
      "Expected:  0.24338111421576175\n",
      "Actual:  0.2106193092419201\n",
      "Expected:  0.3890278526120502\n",
      "Actual:  0.29030813482836426\n",
      "Expected:  0.3384744489962157\n",
      "Actual:  0.275036178523404\n",
      "Expected:  0.3527209237650339\n",
      "Actual:  0.2040100104760796\n"
     ]
    }
   ],
   "source": [
    "N = 15\n",
    "for cluster in lists:\n",
    "    \n",
    "    S = len(cluster)\n",
    "    Acc = 0\n",
    "    \n",
    "    for i in range(N):\n",
    "        L = random.sample(range(3667), S)\n",
    "        cluster_profile = hashtag_profile(L)\n",
    "        Total = len(cluster_profile)\n",
    "        Same = 0\n",
    "        for hashtag in cluster_profile:\n",
    "            Same += cluster_profile[hashtag]\n",
    "        Acc += (Total/Same)\n",
    "    print('Expected: ', Acc / N)\n",
    "    \n",
    "    cluster_profile = hashtag_profile(cluster)\n",
    "    Total = len(cluster_profile)\n",
    "    Same = 0\n",
    "    for hashtag in cluster_profile:\n",
    "        Same += cluster_profile[hashtag]\n",
    "    print('Actual: ', Total / Same)"
   ]
  },
  {
   "cell_type": "code",
   "execution_count": null,
   "metadata": {},
   "outputs": [],
   "source": []
  },
  {
   "cell_type": "code",
   "execution_count": 27,
   "metadata": {},
   "outputs": [],
   "source": [
    "def cluster_hashtags(cluster):\n",
    "    mention_props = {}\n",
    "    size = len(cluster)\n",
    "    i = 0\n",
    "    for user in cluster:\n",
    "        reps = hashtags[user]\n",
    "        for target in reps:\n",
    "            if target in mention_props: mention_props[target][i] += reps[target]\n",
    "            else: \n",
    "                a = np.zeros(size,int)\n",
    "                a[i] = reps[target]\n",
    "                mention_props[target] = a\n",
    "        i += 1\n",
    "    for target in mention_props:\n",
    "        mention_props[target] = [mention_props[target], total_hash[target]]\n",
    "    return mention_props"
   ]
  },
  {
   "cell_type": "code",
   "execution_count": 28,
   "metadata": {},
   "outputs": [],
   "source": [
    "total_mentions = {}\n",
    "for user in replies:\n",
    "    mentions = replies[user]\n",
    "    for user1 in mentions:\n",
    "        t = mentions[user1]\n",
    "        if user1 in total_mentions:\n",
    "            total_mentions[user1] += t\n",
    "        else:total_mentions[user1] = t"
   ]
  },
  {
   "cell_type": "code",
   "execution_count": 35,
   "metadata": {},
   "outputs": [
    {
     "name": "stdout",
     "output_type": "stream",
     "text": [
      "72\n"
     ]
    }
   ],
   "source": [
    "### Cluster data\n",
    "#B = unpick('clustersb')\n",
    "#clusters = unpick('clustersa')\n",
    "#clusters = unpick('clusters')\n",
    "#cluster = clusters[4]\n",
    "#print(len(cluster))"
   ]
  },
  {
   "cell_type": "code",
   "execution_count": null,
   "metadata": {},
   "outputs": [],
   "source": []
  },
  {
   "cell_type": "code",
   "execution_count": 32,
   "metadata": {},
   "outputs": [],
   "source": [
    "total_hash = {}\n",
    "for user in replies:\n",
    "    reps = hashtags[user]\n",
    "    for target in reps:\n",
    "        if target in total_hash: total_hash[target] += reps[target]\n",
    "        else: total_hash[target] = reps[target]"
   ]
  },
  {
   "cell_type": "code",
   "execution_count": 34,
   "metadata": {},
   "outputs": [
    {
     "data": {
      "image/png": "[encoded data removed]",
      "text/plain": [
       "<Figure size 432x288 with 1 Axes>"
      ]
     },
     "metadata": {
      "needs_background": "light"
     },
     "output_type": "display_data"
    },
    {
     "data": {
      "text/plain": [
       "180488"
      ]
     },
     "execution_count": 34,
     "metadata": {},
     "output_type": "execute_result"
    }
   ],
   "source": [
    "plt.imshow(connections, cmap = 'Blues')\n",
    "plt.show()\n",
    "np.sum(connections)"
   ]
  },
  {
   "cell_type": "code",
   "execution_count": 19,
   "metadata": {},
   "outputs": [],
   "source": [
    "def cluster_self_response(cluster_nums):\n",
    "    total = 0\n",
    "    for i in cluster_nums:\n",
    "        for j in cluster_nums:\n",
    "            total += connections[i][j]\n",
    "    return total"
   ]
  },
  {
   "cell_type": "code",
   "execution_count": 20,
   "metadata": {},
   "outputs": [],
   "source": [
    "def cluster_targets(cluster):\n",
    "    mention_props = {}\n",
    "    size = len(cluster)\n",
    "    i = 0\n",
    "    for user in cluster:\n",
    "        reps = replies[user]\n",
    "        for target in reps:\n",
    "            if target in mention_props: mention_props[target][i] += reps[target]\n",
    "            else: \n",
    "                a = np.zeros(size,int)\n",
    "                a[i] = reps[target]\n",
    "                mention_props[target] = a\n",
    "        i += 1\n",
    "    for target in mention_props:\n",
    "        mention_props[target] = [mention_props[target], referenced[target]]\n",
    "    return mention_props"
   ]
  },
  {
   "cell_type": "code",
   "execution_count": 43,
   "metadata": {},
   "outputs": [],
   "source": [
    "i = 0\n",
    "#C_data = {}\n",
    "A = unpick('clustersa')\n",
    "test = A[1]\n",
    "clusters = A"
   ]
  },
  {
   "cell_type": "code",
   "execution_count": null,
   "metadata": {},
   "outputs": [
    {
     "name": "stdout",
     "output_type": "stream",
     "text": [
      "1995\n",
      "465\n",
      "0\n",
      "1\n",
      "2\n",
      "3\n",
      "4\n",
      "5\n",
      "6\n",
      "7\n",
      "8\n",
      "9\n",
      "10\n",
      "11\n",
      "12\n",
      "13\n",
      "14\n",
      "15\n",
      "16\n",
      "17\n",
      "18\n",
      "19\n",
      "20\n",
      "21\n",
      "22\n",
      "23\n",
      "24\n",
      "25\n",
      "26\n",
      "27\n",
      "28\n",
      "29\n",
      "30\n",
      "31\n",
      "32\n",
      "33\n",
      "34\n",
      "35\n",
      "36\n",
      "37\n",
      "38\n",
      "39\n",
      "40\n",
      "41\n",
      "42\n",
      "43\n",
      "44\n",
      "45\n",
      "46\n",
      "47\n",
      "48\n",
      "49\n",
      "50\n",
      "51\n",
      "52\n",
      "53\n",
      "54\n",
      "55\n",
      "56\n",
      "57\n",
      "58\n",
      "59\n",
      "60\n",
      "61\n",
      "62\n",
      "63\n",
      "64\n",
      "65\n",
      "66\n",
      "67\n",
      "68\n",
      "69\n",
      "70\n",
      "71\n",
      "72\n",
      "73\n",
      "74\n",
      "75\n",
      "76\n",
      "77\n",
      "78\n",
      "79\n",
      "80\n",
      "81\n",
      "82\n",
      "83\n",
      "84\n",
      "85\n",
      "86\n",
      "87\n",
      "88\n",
      "89\n",
      "90\n",
      "91\n",
      "92\n",
      "93\n",
      "94\n",
      "95\n",
      "96\n",
      "97\n",
      "98\n",
      "99\n",
      "100\n",
      "101\n",
      "102\n",
      "103\n",
      "104\n",
      "105\n",
      "106\n",
      "107\n",
      "108\n",
      "109\n",
      "110\n",
      "111\n",
      "112\n",
      "113\n",
      "114\n",
      "115\n",
      "116\n",
      "117\n",
      "118\n",
      "119\n",
      "120\n",
      "121\n",
      "122\n",
      "123\n",
      "124\n",
      "125\n",
      "126\n",
      "127\n",
      "128\n",
      "129\n",
      "130\n",
      "131\n",
      "132\n",
      "133\n",
      "134\n",
      "135\n",
      "136\n",
      "137\n",
      "138\n",
      "139\n",
      "140\n",
      "141\n",
      "142\n",
      "143\n",
      "144\n",
      "145\n",
      "146\n",
      "147\n",
      "148\n",
      "149\n",
      "150\n",
      "151\n",
      "152\n",
      "153\n",
      "154\n",
      "155\n",
      "156\n",
      "157\n",
      "158\n",
      "159\n",
      "160\n",
      "161\n",
      "162\n",
      "163\n",
      "164\n",
      "165\n",
      "166\n",
      "167\n",
      "168\n",
      "169\n",
      "170\n",
      "171\n",
      "172\n",
      "173\n",
      "174\n",
      "175\n",
      "176\n",
      "177\n",
      "178\n",
      "179\n",
      "180\n",
      "181\n",
      "182\n",
      "183\n",
      "184\n",
      "185\n",
      "186\n",
      "187\n",
      "188\n",
      "189\n",
      "190\n",
      "191\n",
      "192\n",
      "193\n",
      "194\n",
      "195\n",
      "196\n",
      "197\n",
      "198\n",
      "199\n",
      "200\n",
      "201\n",
      "202\n",
      "203\n",
      "204\n",
      "205\n",
      "206\n",
      "207\n",
      "208\n",
      "209\n",
      "210\n",
      "211\n",
      "212\n",
      "213\n",
      "214\n",
      "215\n",
      "216\n",
      "217\n",
      "218\n",
      "219\n",
      "220\n",
      "221\n",
      "222\n",
      "223\n",
      "224\n",
      "225\n",
      "226\n",
      "227\n",
      "228\n",
      "229\n",
      "230\n",
      "231\n",
      "232\n",
      "233\n",
      "234\n",
      "235\n",
      "236\n",
      "237\n",
      "238\n",
      "239\n",
      "240\n",
      "241\n",
      "242\n",
      "243\n",
      "244\n",
      "245\n",
      "246\n",
      "247\n",
      "248\n",
      "249\n",
      "250\n",
      "251\n",
      "252\n",
      "253\n",
      "254\n",
      "255\n",
      "256\n"
     ]
    }
   ],
   "source": [
    "for j in range(len(clusters)):\n",
    "    C_data = {}\n",
    "    cluster = clusters[j]\n",
    "    cluster_i = cluster_ids(cluster)\n",
    "    print(len(cluster))\n",
    "    if j != 0:\n",
    "        u_t = cluster_targets(cluster_i)\n",
    "        c_h = cluster_hashtags(cluster_i)\n",
    "        s_m = cluster_self_response(cluster)\n",
    "#        test = cluster_ids(cluster)\n",
    "        ur = url_info(cluster_i)\n",
    "        C_data = [u_t,c_h,s_m,ur]\n",
    "        pick(C_data, './ira_data/C_data' + str(j))\n",
    "    if j == 1:break"
   ]
  },
  {
   "cell_type": "code",
   "execution_count": 47,
   "metadata": {},
   "outputs": [
    {
     "name": "stdout",
     "output_type": "stream",
     "text": [
      "465\n",
      "191072 [619360, 329569]\n",
      "96\n",
      "34190 [17278, 33]\n",
      "82\n",
      "35494 [752996, 2570]\n",
      "72\n",
      "0 [439, 319]\n",
      "51\n",
      "0 [1, 1]\n",
      "46\n",
      "0 [35, 16]\n",
      "44\n",
      "7 [204884, 2672]\n",
      "42\n",
      "518 [94027, 13474]\n",
      "42\n",
      "25 [162654, 832]\n",
      "36\n",
      "344 [42138, 3955]\n"
     ]
    }
   ],
   "source": [
    "for j in range(len(clusters)):\n",
    "    if j != 0:\n",
    "        C_data = unpick('./ira_data/C_data' + str(j))\n",
    "        cluster = clusters[j]\n",
    "        cluster_i = cluster_ids(cluster)\n",
    "        print(len(cluster))\n",
    "    if j != 0:\n",
    "        sr = C_data[2]\n",
    "        ur = C_data[3]\n",
    "        print(sr,ur)\n",
    "        if j == 10:break"
   ]
  },
  {
   "cell_type": "code",
   "execution_count": null,
   "metadata": {},
   "outputs": [],
   "source": [
    "501\n",
    "224800 (637847, 901599)\n",
    "110\n",
    "0 [459, 361]\n",
    "96\n",
    "34190 [17278, 33]\n",
    "87\n",
    "35537 [829415, 2628]\n",
    "51\n",
    "0 [1, 1]\n",
    "46\n",
    "0 [35, 16]\n",
    "46\n",
    "586 [99730, 14664]\n",
    "44\n",
    "7 [204884, 2672]\n",
    "43\n",
    "25 [162894, 1223]\n",
    "36\n",
    "344 [42138, 3955]"
   ]
  },
  {
   "cell_type": "code",
   "execution_count": 319,
   "metadata": {},
   "outputs": [],
   "source": [
    "for user in urls:\n",
    "#    print(urls[user])\n",
    "    break"
   ]
  },
  {
   "cell_type": "code",
   "execution_count": 22,
   "metadata": {},
   "outputs": [],
   "source": [
    "def url_info(group):\n",
    "    same_urls = set()\n",
    "    all_urls = set()\n",
    "    i = 0\n",
    "    for user1 in group:\n",
    "        X = set(urls[user1])\n",
    "        all_urls = all_urls.union(X)\n",
    "        for user2 in group:\n",
    "            if user2 != user1:\n",
    "                Y = set(urls[user2])\n",
    "                same_urls = same_urls.union(X.intersection(Y))\n",
    "        print(i)\n",
    "        i += 1\n",
    "    return [len(all_urls), len(same_urls)]"
   ]
  },
  {
   "cell_type": "code",
   "execution_count": 49,
   "metadata": {},
   "outputs": [
    {
     "ename": "KeyError",
     "evalue": "4",
     "output_type": "error",
     "traceback": [
      "\u001b[1;31m---------------------------------------------------------------------------\u001b[0m",
      "\u001b[1;31mKeyError\u001b[0m                                  Traceback (most recent call last)",
      "\u001b[1;32m<ipython-input-49-922f8855b134>\u001b[0m in \u001b[0;36m<module>\u001b[1;34m\u001b[0m\n\u001b[0;32m      1\u001b[0m \u001b[1;31m#proportions = cluster_targets(test)\u001b[0m\u001b[1;33m\u001b[0m\u001b[1;33m\u001b[0m\u001b[1;33m\u001b[0m\u001b[0m\n\u001b[1;32m----> 2\u001b[1;33m \u001b[0mproportions\u001b[0m \u001b[1;33m=\u001b[0m \u001b[0mcluster_hashtags\u001b[0m\u001b[1;33m(\u001b[0m\u001b[0mA\u001b[0m\u001b[1;33m[\u001b[0m\u001b[1;36m1\u001b[0m\u001b[1;33m]\u001b[0m\u001b[1;33m)\u001b[0m\u001b[1;33m\u001b[0m\u001b[1;33m\u001b[0m\u001b[0m\n\u001b[0m",
      "\u001b[1;32m<ipython-input-27-36b0cfc48e3a>\u001b[0m in \u001b[0;36mcluster_hashtags\u001b[1;34m(cluster)\u001b[0m\n\u001b[0;32m      4\u001b[0m     \u001b[0mi\u001b[0m \u001b[1;33m=\u001b[0m \u001b[1;36m0\u001b[0m\u001b[1;33m\u001b[0m\u001b[1;33m\u001b[0m\u001b[0m\n\u001b[0;32m      5\u001b[0m     \u001b[1;32mfor\u001b[0m \u001b[0muser\u001b[0m \u001b[1;32min\u001b[0m \u001b[0mcluster\u001b[0m\u001b[1;33m:\u001b[0m\u001b[1;33m\u001b[0m\u001b[1;33m\u001b[0m\u001b[0m\n\u001b[1;32m----> 6\u001b[1;33m         \u001b[0mreps\u001b[0m \u001b[1;33m=\u001b[0m \u001b[0mhashtags\u001b[0m\u001b[1;33m[\u001b[0m\u001b[0muser\u001b[0m\u001b[1;33m]\u001b[0m\u001b[1;33m\u001b[0m\u001b[1;33m\u001b[0m\u001b[0m\n\u001b[0m\u001b[0;32m      7\u001b[0m         \u001b[1;32mfor\u001b[0m \u001b[0mtarget\u001b[0m \u001b[1;32min\u001b[0m \u001b[0mreps\u001b[0m\u001b[1;33m:\u001b[0m\u001b[1;33m\u001b[0m\u001b[1;33m\u001b[0m\u001b[0m\n\u001b[0;32m      8\u001b[0m             \u001b[1;32mif\u001b[0m \u001b[0mtarget\u001b[0m \u001b[1;32min\u001b[0m \u001b[0mmention_props\u001b[0m\u001b[1;33m:\u001b[0m \u001b[0mmention_props\u001b[0m\u001b[1;33m[\u001b[0m\u001b[0mtarget\u001b[0m\u001b[1;33m]\u001b[0m\u001b[1;33m[\u001b[0m\u001b[0mi\u001b[0m\u001b[1;33m]\u001b[0m \u001b[1;33m+=\u001b[0m \u001b[0mreps\u001b[0m\u001b[1;33m[\u001b[0m\u001b[0mtarget\u001b[0m\u001b[1;33m]\u001b[0m\u001b[1;33m\u001b[0m\u001b[1;33m\u001b[0m\u001b[0m\n",
      "\u001b[1;31mKeyError\u001b[0m: 4"
     ]
    }
   ],
   "source": [
    "#proportions = cluster_targets(test)\n",
    "proportions = cluster_hashtags(A[1])"
   ]
  },
  {
   "cell_type": "code",
   "execution_count": 23,
   "metadata": {},
   "outputs": [
    {
     "ename": "NameError",
     "evalue": "name 'proportions' is not defined",
     "output_type": "error",
     "traceback": [
      "\u001b[1;31m---------------------------------------------------------------------------\u001b[0m",
      "\u001b[1;31mNameError\u001b[0m                                 Traceback (most recent call last)",
      "\u001b[1;32m<ipython-input-23-e157ee99a544>\u001b[0m in \u001b[0;36m<module>\u001b[1;34m\u001b[0m\n\u001b[0;32m      1\u001b[0m \u001b[1;31m### Could easily be spiked by one user\u001b[0m\u001b[1;33m\u001b[0m\u001b[1;33m\u001b[0m\u001b[1;33m\u001b[0m\u001b[0m\n\u001b[0;32m      2\u001b[0m \u001b[0mh_ratios\u001b[0m \u001b[1;33m=\u001b[0m \u001b[1;33m{\u001b[0m\u001b[1;33m}\u001b[0m\u001b[1;33m\u001b[0m\u001b[1;33m\u001b[0m\u001b[0m\n\u001b[1;32m----> 3\u001b[1;33m \u001b[1;32mfor\u001b[0m \u001b[0mp\u001b[0m \u001b[1;32min\u001b[0m \u001b[0mproportions\u001b[0m\u001b[1;33m:\u001b[0m\u001b[1;33m\u001b[0m\u001b[1;33m\u001b[0m\u001b[0m\n\u001b[0m\u001b[0;32m      4\u001b[0m     \u001b[1;33m[\u001b[0m\u001b[0ma\u001b[0m\u001b[1;33m,\u001b[0m \u001b[0mb\u001b[0m\u001b[1;33m]\u001b[0m \u001b[1;33m=\u001b[0m \u001b[0mproportions\u001b[0m\u001b[1;33m[\u001b[0m\u001b[0mp\u001b[0m\u001b[1;33m]\u001b[0m\u001b[1;33m\u001b[0m\u001b[1;33m\u001b[0m\u001b[0m\n\u001b[0;32m      5\u001b[0m \u001b[1;31m#    print(b)\u001b[0m\u001b[1;33m\u001b[0m\u001b[1;33m\u001b[0m\u001b[1;33m\u001b[0m\u001b[0m\n",
      "\u001b[1;31mNameError\u001b[0m: name 'proportions' is not defined"
     ]
    }
   ],
   "source": [
    "### Could easily be spiked by one user\n",
    "h_ratios = {}\n",
    "for p in proportions:\n",
    "    [a, b] = proportions[p]\n",
    "#    print(b)\n",
    "    a = np.where(a>5,a,0)\n",
    "    if sum(a) > 0:\n",
    "        tot = sum(a) / b\n",
    "        high = a/sum(a)\n",
    "        high = list(filter(lambda x: x < 0.999 , high))\n",
    "        high = list(filter(lambda x: x > 0.001, high))\n",
    "        if len(high) > 2: h_ratios[p] = [len(high),tot, b, sum(a)]"
   ]
  },
  {
   "cell_type": "code",
   "execution_count": 29,
   "metadata": {},
   "outputs": [
    {
     "ename": "NameError",
     "evalue": "name 'h_ratios' is not defined",
     "output_type": "error",
     "traceback": [
      "\u001b[1;31m---------------------------------------------------------------------------\u001b[0m",
      "\u001b[1;31mNameError\u001b[0m                                 Traceback (most recent call last)",
      "\u001b[1;32m<ipython-input-29-47c395c1cdb5>\u001b[0m in \u001b[0;36m<module>\u001b[1;34m\u001b[0m\n\u001b[1;32m----> 1\u001b[1;33m \u001b[1;32mfor\u001b[0m \u001b[0mh\u001b[0m \u001b[1;32min\u001b[0m \u001b[0mh_ratios\u001b[0m\u001b[1;33m:\u001b[0m\u001b[1;33m\u001b[0m\u001b[1;33m\u001b[0m\u001b[0m\n\u001b[0m\u001b[0;32m      2\u001b[0m     \u001b[1;33m[\u001b[0m\u001b[0mx\u001b[0m\u001b[1;33m,\u001b[0m\u001b[0my\u001b[0m\u001b[1;33m,\u001b[0m\u001b[0mb\u001b[0m\u001b[1;33m,\u001b[0m\u001b[0ma\u001b[0m\u001b[1;33m]\u001b[0m \u001b[1;33m=\u001b[0m \u001b[0mh_ratios\u001b[0m\u001b[1;33m[\u001b[0m\u001b[0mh\u001b[0m\u001b[1;33m]\u001b[0m\u001b[1;33m\u001b[0m\u001b[1;33m\u001b[0m\u001b[0m\n\u001b[0;32m      3\u001b[0m     \u001b[0mlab\u001b[0m \u001b[1;33m=\u001b[0m \u001b[0mh\u001b[0m \u001b[1;33m+\u001b[0m \u001b[1;34m': '\u001b[0m \u001b[1;33m+\u001b[0m\u001b[0mstr\u001b[0m\u001b[1;33m(\u001b[0m\u001b[0ma\u001b[0m\u001b[1;33m)\u001b[0m \u001b[1;33m+\u001b[0m \u001b[1;34m' / '\u001b[0m \u001b[1;33m+\u001b[0m \u001b[0mstr\u001b[0m\u001b[1;33m(\u001b[0m\u001b[0mb\u001b[0m\u001b[1;33m)\u001b[0m\u001b[1;33m\u001b[0m\u001b[1;33m\u001b[0m\u001b[0m\n\u001b[0;32m      4\u001b[0m     \u001b[1;32mif\u001b[0m \u001b[0my\u001b[0m \u001b[1;33m>\u001b[0m \u001b[1;36m0.15\u001b[0m\u001b[1;33m:\u001b[0m \u001b[0mplt\u001b[0m\u001b[1;33m.\u001b[0m\u001b[0mscatter\u001b[0m\u001b[1;33m(\u001b[0m\u001b[0mx\u001b[0m\u001b[1;33m,\u001b[0m\u001b[0my\u001b[0m\u001b[1;33m,\u001b[0m \u001b[0mlabel\u001b[0m \u001b[1;33m=\u001b[0m \u001b[0mlab\u001b[0m\u001b[1;33m)\u001b[0m\u001b[1;33m\u001b[0m\u001b[1;33m\u001b[0m\u001b[0m\n\u001b[0;32m      5\u001b[0m     \u001b[1;32melse\u001b[0m\u001b[1;33m:\u001b[0m\u001b[0mplt\u001b[0m\u001b[1;33m.\u001b[0m\u001b[0mscatter\u001b[0m\u001b[1;33m(\u001b[0m\u001b[0mx\u001b[0m\u001b[1;33m,\u001b[0m\u001b[0my\u001b[0m\u001b[1;33m)\u001b[0m\u001b[1;33m\u001b[0m\u001b[1;33m\u001b[0m\u001b[0m\n",
      "\u001b[1;31mNameError\u001b[0m: name 'h_ratios' is not defined"
     ]
    }
   ],
   "source": [
    "for h in h_ratios:\n",
    "    [x,y,b,a] = h_ratios[h]\n",
    "    lab = h + ': ' +str(a) + ' / ' + str(b)\n",
    "    if y > 0.15: plt.scatter(x,y, label = lab)\n",
    "    else:plt.scatter(x,y)\n",
    "    plt.legend()\n",
    "plt.show()"
   ]
  },
  {
   "cell_type": "code",
   "execution_count": 26,
   "metadata": {},
   "outputs": [
    {
     "name": "stdout",
     "output_type": "stream",
     "text": [
      "613118\n"
     ]
    }
   ],
   "source": [
    "total = 0\n",
    "for cluster in clusters:\n",
    "    total += cluster_self_response(cluster)\n",
    "print(total)"
   ]
  },
  {
   "cell_type": "code",
   "execution_count": 22,
   "metadata": {},
   "outputs": [],
   "source": [
    "#test = []\n",
    "#for i in range(len(dicts)):\n",
    "#    test.append(unpick(names[i]))"
   ]
  },
  {
   "cell_type": "code",
   "execution_count": 45,
   "metadata": {},
   "outputs": [],
   "source": [
    "def cluster_ids(cluster):\n",
    "    ids = []\n",
    "    for i in cluster:\n",
    "        ids.append(uid(i))\n",
    "    return ids"
   ]
  },
  {
   "cell_type": "code",
   "execution_count": 46,
   "metadata": {},
   "outputs": [],
   "source": [
    "def common_urls(cluster):\n",
    "    common = set()\n",
    "    same = 0\n",
    "    for user in cluster:\n",
    "        same += len(common.intersection(urls[user]))\n",
    "        common = common.union(urls[user])\n",
    "    return len(common), same      "
   ]
  },
  {
   "cell_type": "code",
   "execution_count": 230,
   "metadata": {},
   "outputs": [],
   "source": [
    "### Temporal data\n",
    "t_data = []\n",
    "for user in tweet_days:\n",
    "            t_data.append(tweet_days[user])\n",
    "t_data = np.array(t_data)\n",
    "#plt.plot(t_data[cluster])\n",
    "#plt.show()"
   ]
  },
  {
   "cell_type": "code",
   "execution_count": 305,
   "metadata": {},
   "outputs": [],
   "source": []
  },
  {
   "cell_type": "code",
   "execution_count": null,
   "metadata": {},
   "outputs": [],
   "source": []
  },
  {
   "cell_type": "code",
   "execution_count": null,
   "metadata": {},
   "outputs": [],
   "source": []
  }
 ],
 "metadata": {
  "kernelspec": {
   "display_name": "Python 3",
   "language": "python",
   "name": "python3"
  },
  "language_info": {
   "codemirror_mode": {
    "name": "ipython",
    "version": 3
   },
   "file_extension": ".py",
   "mimetype": "text/x-python",
   "name": "python",
   "nbconvert_exporter": "python",
   "pygments_lexer": "ipython3",
   "version": "3.6.8"
  }
 },
 "nbformat": 4,
 "nbformat_minor": 2
}
