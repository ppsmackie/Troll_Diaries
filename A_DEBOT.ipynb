{
 "cells": [
  {
   "cell_type": "code",
   "execution_count": 1,
   "metadata": {},
   "outputs": [],
   "source": [
    "import csv\n",
    "from datetime import datetime\n",
    "import matplotlib.pyplot as plt\n",
    "import matplotlib\n",
    "import numpy as np\n",
    "from sklearn.cluster import DBSCAN\n",
    "import sklearn\n",
    "from scipy.spatial import distance"
   ]
  },
  {
   "cell_type": "code",
   "execution_count": 24,
   "metadata": {},
   "outputs": [],
   "source": [
    "### DATA GENERTED\n",
    "#debot = unpick('debot_0.99')"
   ]
  },
  {
   "cell_type": "code",
   "execution_count": 14,
   "metadata": {},
   "outputs": [],
   "source": [
    "### Function to save results as .txt files\n",
    "import pickle\n",
    "def pick(file, name):\n",
    "    with open('./ira_txt_1/' + name + '.txt', \"wb\") as fp:   #Pickling\n",
    "        pickle.dump(file, fp)\n",
    "def unpick(name):\n",
    "    with open('./ira_txt_1/' + name + '.txt', \"rb\") as fp:   # Unpickling\n",
    "        file = pickle.load(fp)\n",
    "    return file\n",
    "\n",
    "### Function to save results as .txt files\n",
    "def pick_min(file, name):\n",
    "    with open('./ira_txt_1/txt_min/' + name + '.txt', \"wb\") as fp:   #Pickling\n",
    "        pickle.dump(file, fp)\n",
    "def unpick_min(name):\n",
    "    with open('./ira_txt_1/txt_min/' + name + '.txt', \"rb\") as fp:   # Unpickling\n",
    "        file = pickle.load(fp)\n",
    "    return file"
   ]
  },
  {
   "cell_type": "markdown",
   "metadata": {},
   "source": [
    "Number of users: 3667\n",
    "\n",
    "Number of tweets: 9041308\n",
    "\n",
    "Start date: 2009-05-09 \n",
    "End Date: 2018-06-21\n",
    "Days: 3331\n",
    "\n",
    "date of election: 2016-11-08\n",
    "(as number): 2740\n",
    "\n",
    "Bar chart of tweets per day over period..."
   ]
  },
  {
   "cell_type": "code",
   "execution_count": 3,
   "metadata": {},
   "outputs": [],
   "source": [
    "total_tweets = 9041308\n",
    "total_users = 3667"
   ]
  },
  {
   "cell_type": "code",
   "execution_count": 4,
   "metadata": {},
   "outputs": [],
   "source": [
    "def seconds(timedelta):\n",
    "    return int(timedelta.total_seconds()/(60))\n",
    "def hours(timedelta):\n",
    "    return int(timedelta.total_seconds()//(60*60))\n",
    "def days(timedelta):\n",
    "    return int((timedelta.total_seconds()//(60*60))/24)"
   ]
  },
  {
   "cell_type": "code",
   "execution_count": 6,
   "metadata": {},
   "outputs": [],
   "source": [
    "user_mins = unpick('user_datetimes')\n",
    "bdm = unpick('bin_data_matrix')\n",
    "keys = unpick('keys')"
   ]
  },
  {
   "cell_type": "code",
   "execution_count": 20,
   "metadata": {},
   "outputs": [],
   "source": [
    "def duplicate(testList, n):\n",
    "    for _ in range(n):\n",
    "        testList.append([])\n",
    "    return testList\n",
    "\n",
    "def list_cls(labs):\n",
    "    cl = duplicate([],max(labs) + 1)\n",
    "    for i in range(len(labs)):\n",
    "        cl[labs[i]].append(i)\n",
    "    return cl"
   ]
  },
  {
   "cell_type": "code",
   "execution_count": 8,
   "metadata": {},
   "outputs": [],
   "source": [
    "def get_day(i):\n",
    "    min_vectors_day = {}\n",
    "    r_day = i\n",
    "    for user in power_users:\n",
    "        min_vector = []\n",
    "        rn = []\n",
    "        times = power_users[user]\n",
    "        for time in times:\n",
    "            date_obj = time            \n",
    "            day_number = (date_obj.date() - firsttweet.date()).days\n",
    "            num.append(day_number)\n",
    "            if day_number == r_day:\n",
    "                min_number = seconds(date_obj - firsttweet)\n",
    "                min_vector.append(min_number)\n",
    "                removed_num.append(day_number)\n",
    "                rn.append(time)\n",
    "            elif day_number > r_day:\n",
    "                break\n",
    "            else:\n",
    "                print('FFS', day_number, r_day, user)\n",
    "        if len(rn) > 0:\n",
    "            power_users[user] = power_users[user][len(rn):]\n",
    "        min_vectors_day[user] = min_vector\n",
    "    return(min_vectors_day)"
   ]
  },
  {
   "cell_type": "code",
   "execution_count": 11,
   "metadata": {},
   "outputs": [
    {
     "name": "stdout",
     "output_type": "stream",
     "text": [
      "2009-05-09 15:59:00\n",
      "2018-06-21 14:32:00\n",
      "4795113.0\n",
      "3330\n",
      "4795114\n"
     ]
    }
   ],
   "source": [
    "### find first and last tweet and calculate days between them for length of vector\n",
    "power_users = dict(user_mins)\n",
    "firsttweet = datetime.now()\n",
    "lasttweet = datetime(2009,11,24)\n",
    "\n",
    "for user in power_users:\n",
    "    dates = power_users[user]\n",
    "    first = dates[0]\n",
    "    last = dates[-1]\n",
    "    if first < firsttweet: firsttweet = first\n",
    "    if last > lasttweet: lasttweet = last\n",
    "\n",
    "print(firsttweet)\n",
    "print(lasttweet)\n",
    "\n",
    "print((lasttweet - firsttweet).total_seconds()/(60))\n",
    "print(days(lasttweet - firsttweet)+1)\n",
    "total_hours = hours(lasttweet - firsttweet)+1\n",
    "total_mins = seconds(lasttweet - firsttweet) + 1\n",
    "print(total_mins)"
   ]
  },
  {
   "cell_type": "code",
   "execution_count": 12,
   "metadata": {},
   "outputs": [],
   "source": [
    "ds = range(3331)\n",
    "power_users = dict(user_mins)\n",
    "num = []\n",
    "removed_num = []"
   ]
  },
  {
   "cell_type": "code",
   "execution_count": 15,
   "metadata": {},
   "outputs": [
    {
     "name": "stdout",
     "output_type": "stream",
     "text": [
      "1/3 done\n",
      "1/3 done\n",
      "1/3 done\n"
     ]
    }
   ],
   "source": [
    "### Save list of mins tweeted on by each user for each day (3330) days\n",
    "for k in ds:\n",
    "    x = get_day(k)\n",
    "    pick_min(x, str(k) + 'min_vectors_day')\n",
    "    if k == 1000: print('1/3 done')\n",
    "    if k == 2000: print('1/3 done')\n",
    "    if k == 3000: print('1/3 done')"
   ]
  },
  {
   "cell_type": "code",
   "execution_count": 16,
   "metadata": {},
   "outputs": [
    {
     "name": "stdout",
     "output_type": "stream",
     "text": [
      "18368068\n",
      "9041308\n"
     ]
    }
   ],
   "source": [
    "print(len(num))\n",
    "print(len(removed_num))"
   ]
  },
  {
   "cell_type": "code",
   "execution_count": 19,
   "metadata": {},
   "outputs": [
    {
     "name": "stdout",
     "output_type": "stream",
     "text": [
      "1/3 done\n",
      "1/3 done\n",
      "1/3 done\n"
     ]
    }
   ],
   "source": [
    "### Save min-min data matrix for each day as well as total users on each day and dictionary for converting\n",
    "threshold = 20\n",
    "for k in range(3331):\n",
    "    min_vectors_day = unpick_min(str(k) + 'min_vectors_day')\n",
    "    X=set()\n",
    "    users_on_day = []\n",
    "    user_number = []\n",
    "    i = 0\n",
    "    for user in min_vectors_day:\n",
    "        Y = min_vectors_day[user]\n",
    "        if(len(Y)>threshold):\n",
    "            users_on_day.append(user)\n",
    "            user_number.append(i)\n",
    "        X = set(Y).union(X)\n",
    "        i += 1\n",
    "    day_data = np.zeros((len(users_on_day),1441),int)\n",
    "    if len(X) > threshold:\n",
    "        first = min(X)\n",
    "        i = 0\n",
    "        for user in users_on_day:\n",
    "            tweets = (np.array(min_vectors_day[user]) - first).tolist()\n",
    "            day_data[i,tweets] = 1\n",
    "            i += 1\n",
    "    r = (day_data, users_on_day, user_number)\n",
    "    pick_min(r, str(k) + 'r')\n",
    "    if k == 1000: print('1/3 done')\n",
    "    if k == 2000: print('1/3 done')\n",
    "    if k == 3000: print('1/3 done')"
   ]
  },
  {
   "cell_type": "code",
   "execution_count": 20,
   "metadata": {},
   "outputs": [],
   "source": [
    "def run_debot(t):\n",
    "    m_v, m_u, nums = unpick_min(str(t) + 'r')\n",
    "    cor = np.corrcoef(m_v)\n",
    "    on_day = len(m_u)\n",
    "    for i in range(on_day):\n",
    "        for j in range(on_day):\n",
    "            if i < j:\n",
    "                U1 = nums[i]\n",
    "                U2 = nums[j]\n",
    "                cm[U1,U2] += cor[i,j]\n",
    "                cm_sum[U1,U2] += 1\n",
    "                if cor[i,j] >= 0.99:\n",
    "                    xs = range(len(m_v[i]))\n",
    "                    correlated.add(U1)\n",
    "                    correlated.add(U2)"
   ]
  },
  {
   "cell_type": "code",
   "execution_count": 21,
   "metadata": {},
   "outputs": [
    {
     "name": "stdout",
     "output_type": "stream",
     "text": [
      "500  done\n",
      "1000  done\n",
      "1500  done\n",
      "2000  done\n",
      "2500  done\n",
      "3000  done\n"
     ]
    }
   ],
   "source": [
    "cm = np.zeros((3667,3667))\n",
    "cm_sum = np.zeros((3667,3667))\n",
    "correlated = set()\n",
    "\n",
    "for k in range(3331):\n",
    "    if k == 1000: print(k, ' done')\n",
    "    if k == 500: print(k, ' done')\n",
    "    if k == 1500: print(k, ' done')\n",
    "    if k == 2000: print(k, ' done')\n",
    "    if k == 2500: print(k, ' done')\n",
    "    if k == 3000: print(k, ' done')\n",
    "    run_debot(k)"
   ]
  },
  {
   "cell_type": "code",
   "execution_count": 22,
   "metadata": {},
   "outputs": [
    {
     "name": "stdout",
     "output_type": "stream",
     "text": [
      "979\n"
     ]
    }
   ],
   "source": [
    "print(len(correlated))"
   ]
  },
  {
   "cell_type": "code",
   "execution_count": 23,
   "metadata": {},
   "outputs": [],
   "source": [
    "#pick(list(correlated), 'debot_0.99')"
   ]
  },
  {
   "cell_type": "code",
   "execution_count": null,
   "metadata": {},
   "outputs": [],
   "source": []
  }
 ],
 "metadata": {
  "kernelspec": {
   "display_name": "Python 3",
   "language": "python",
   "name": "python3"
  },
  "language_info": {
   "codemirror_mode": {
    "name": "ipython",
    "version": 3
   },
   "file_extension": ".py",
   "mimetype": "text/x-python",
   "name": "python",
   "nbconvert_exporter": "python",
   "pygments_lexer": "ipython3",
   "version": "3.6.8"
  }
 },
 "nbformat": 4,
 "nbformat_minor": 2
}
